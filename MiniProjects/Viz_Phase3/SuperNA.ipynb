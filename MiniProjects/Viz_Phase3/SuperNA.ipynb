{
 "cells": [
  {
   "cell_type": "code",
   "execution_count": 3,
   "metadata": {
    "collapsed": false
   },
   "outputs": [],
   "source": [
    "import tweepy\n",
    "\n",
    "consumer_key = \"34EB0NsOyALkliVWWQhcomlcq\"\n",
    "consumer_secret = \"SdjamaQ3Nf479eMi1ke13tgnYuOAJrkms3zgdBwgctmWVIdeSC\"\n",
    "access_token = \"848683524236484609-0S5xPYghok2MOav3tUKbhQkVcJtAH0u\"\n",
    "access_token_secret = \"FhnJ2rTyVMFlepLd1Osnz9DZhJnNuq0td4XxCczojQiy9\"\n",
    "\n",
    "\n",
    "# Authentication\n",
    "auth = tweepy.OAuthHandler(consumer_key, consumer_secret)\n",
    "auth.secure = True\n",
    "auth.set_access_token(access_token, access_token_secret)\n",
    "api = tweepy.API(auth)"
   ]
  },
  {
   "cell_type": "code",
   "execution_count": null,
   "metadata": {
    "collapsed": true
   },
   "outputs": [],
   "source": [
    "# Create the stream\n",
    "streamListener = TwitterStreamListener()\n",
    "\n",
    "# Add your wrapper and your listener to the stream object\n",
    "myStream = tweepy.Stream(auth=api.auth, listener=streamListener)\n",
    "\n"
   ]
  },
  {
   "cell_type": "code",
   "execution_count": 4,
   "metadata": {
    "collapsed": false
   },
   "outputs": [
    {
     "ename": "IndentationError",
     "evalue": "expected an indented block (<ipython-input-4-68df4860aa74>, line 53)",
     "output_type": "error",
     "traceback": [
      "\u001b[0;36m  File \u001b[0;32m\"<ipython-input-4-68df4860aa74>\"\u001b[0;36m, line \u001b[0;32m53\u001b[0m\n\u001b[0;31m    print(\"User Time zone \\t:\", tweet.user.time_zone)\u001b[0m\n\u001b[0m        ^\u001b[0m\n\u001b[0;31mIndentationError\u001b[0m\u001b[0;31m:\u001b[0m expected an indented block\n"
     ]
    }
   ],
   "source": [
    "import tweepy\n",
    "import socket\n",
    "import requests\n",
    "import time\n",
    "from authentication import authentication  # Consumer and access token/key\n",
    "\n",
    "\n",
    "class TwitterStreamListener(tweepy.StreamListener):\n",
    "    \"\"\" A listener handles tweets are the received from the stream.\n",
    "    This is a basic listener that just prints received tweets to stdout.\n",
    "    \"\"\"\n",
    "\n",
    "    def on_status(self, status):\n",
    "        get_tweet(status)\n",
    "        get_user_informations(status)\n",
    "\n",
    "    # Twitter error list : https://dev.twitter.com/overview/api/response-codes\n",
    "\n",
    "    def on_error(self, status_code):\n",
    "        if status_code == 403:\n",
    "            print(\"The request is understood, but it has been refused or access is not allowed. Limit is maybe reached\")\n",
    "            return False\n",
    "\n",
    "\n",
    "def get_tweet(tweet):\n",
    "    print(\"Tweet Message : \" + tweet.text)\n",
    "    print(\"Tweet Favorited \\t:\" + str(tweet.favorited))\n",
    "    print(\"Tweet Favorited count \\t:\" + str(tweet.favorite_count))\n",
    "\n",
    "    # Display sender and mentions user\n",
    "    if hasattr(tweet, 'retweeted_status'):\n",
    "        print(\"Tweet send by : \" + tweet.retweeted_status.user.screen_name)\n",
    "        print(\"Original tweet ID\" + tweet.retweeted_status.id_str)\n",
    "\n",
    "        for screenname in tweet.retweeted_status.entities['user_mentions']:\n",
    "            print(\"Mention user: \" + str(screenname['screen_name']))\n",
    "\n",
    "\n",
    "def get_user_informations(tweet):\n",
    "\n",
    "    print(\"User ID \\t:\" + str(tweet.user.id))\n",
    "    print(\"User image profil \\t:\" + tweet.user.profile_image_url_https)\n",
    "    print(\"User Name \\t:\" + tweet.user.name)\n",
    "    print(\"User URL \\t:\", tweet.user.url)\n",
    "    print(\"User profil text color \\t:\" + tweet.user.profile_text_color)\n",
    "    print(\"User background image url \\t:\" + tweet.user.profile_background_image_url)\n",
    "    print(\"User Friends count \\t:\" + str(tweet.user.friends_count))\n",
    "    print(\"User Screen name \\t:\" + tweet.user.screen_name)\n",
    "    print(\"User Verified \\t:\" + str(tweet.user.verified))\n",
    "    print(\"User Favorite count \\t:\" + str(tweet.user.favourites_count))\n",
    "\n",
    "    if hasattr(tweet.user, 'time_zone'):\n",
    "    print(\"User Time zone \\t:\", tweet.user.time_zone)\n",
    "    print(\"User UTC Offset \\t:\" + str(tweet.user.utc_offset))\n",
    "    print(\"User Status count \\t:\" + str(tweet.user.statuses_count))\n",
    "\n",
    "    print(\"User Description \\t:\", tweet.user.description)\n",
    "    print(\"User Follower count \\t:\" + str(tweet.user.followers_count))\n",
    "    print(\"User Created at \\t:\" + str(tweet.user.created_at))\n",
    "\n",
    "\n",
    "if __name__ == '__main__':\n",
    "\n",
    "    # Get access and key from another class\n",
    "    auth = authentication()\n",
    "\n",
    "    consumer_key = auth.getconsumer_key()\n",
    "    consumer_secret = auth.getconsumer_secret()\n",
    "\n",
    "    access_token = auth.getaccess_token()\n",
    "    access_token_secret = auth.getaccess_token_secret()\n",
    "\n",
    "    # Authentication\n",
    "    auth = tweepy.OAuthHandler(consumer_key, consumer_secret)\n",
    "    auth.secure = True\n",
    "    auth.set_access_token(access_token, access_token_secret)\n",
    "\n",
    "    api = tweepy.API(auth, wait_on_rate_limit=True, wait_on_rate_limit_notify=True, retry_count=10, retry_delay=5, retry_errors=5)\n",
    "\n",
    "    streamListener = TwitterStreamListener()\n",
    "    myStream = tweepy.Stream(auth=api.auth, listener=streamListener)\n",
    "\n",
    "    myStream.filter(track=['michael'], async=True)"
   ]
  }
 ],
 "metadata": {
  "kernelspec": {
   "display_name": "Python 2",
   "language": "python",
   "name": "python2"
  },
  "language_info": {
   "codemirror_mode": {
    "name": "ipython",
    "version": 2
   },
   "file_extension": ".py",
   "mimetype": "text/x-python",
   "name": "python",
   "nbconvert_exporter": "python",
   "pygments_lexer": "ipython2",
   "version": "2.7.13"
  }
 },
 "nbformat": 4,
 "nbformat_minor": 2
}
